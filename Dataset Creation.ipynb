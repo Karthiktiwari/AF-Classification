{
 "cells": [
  {
   "cell_type": "code",
   "execution_count": 4,
   "id": "d2152296",
   "metadata": {},
   "outputs": [],
   "source": [
    "import numpy as np\n",
    "import pandas as pd\n",
    "import matplotlib.pyplot as plt\n",
    "from scipy.signal import sosfilt, butter\n",
    "from tqdm import tqdm\n",
    "import os"
   ]
  },
  {
   "cell_type": "code",
   "execution_count": 5,
   "id": "e0ebbe58",
   "metadata": {},
   "outputs": [],
   "source": [
    "# The bandpass function creates weights according to params that the filter uses.\n",
    "root = '/home/karthiktiwari/Data/dataset/'\n",
    "\n",
    "def bandpass(lowcut, highcut, fs, order=3):\n",
    "    nyq = 0.5 * fs\n",
    "    low = lowcut / nyq\n",
    "    high = highcut / nyq\n",
    "    sos = butter(order, [low, high], 'bandpass', analog=False, output=\"sos\")\n",
    "    return sos\n",
    "\n",
    "cutoff_high = 30\n",
    "cutoff_low = 0.5\n",
    "\n",
    "fs = 200\n",
    "order = 3\n",
    "sos = bandpass(cutoff_low, cutoff_high, fs, order=order)\n",
    "\n",
    "#sos => weights for filter. We can use this to clean the signal.\n",
    "def prep(sos, signal):\n",
    "    maxx = np.max(signal)\n",
    "    minn = np.min(signal)\n",
    "    signal = (signal - minn) / (maxx - minn + 1e-6)\n",
    "    signal = sosfilt(sos, signal)\n",
    "    return signal"
   ]
  },
  {
   "cell_type": "code",
   "execution_count": 6,
   "id": "262e108e",
   "metadata": {},
   "outputs": [
    {
     "name": "stderr",
     "output_type": "stream",
     "text": [
      "100%|███████████████████████████████████████| 1436/1436 [08:27<00:00,  2.83it/s]\n"
     ]
    }
   ],
   "source": [
    "names = os.listdir(root)\n",
    "for name in tqdm(names):\n",
    "    csv = pd.read_csv(os.path.join(root, name))\n",
    "    signal = csv.drop('label', axis = 1).values\n",
    "    signal = signal.reshape(-1)\n",
    "    signal = prep(sos, signal)\n",
    "    signal1 = signal.reshape(-1, 200)\n",
    "    df = pd.DataFrame(signal1, columns = np.arange(200))\n",
    "    df['label'] = csv['label']\n",
    "    df.to_csv(os.path.join(root,name), index=False)"
   ]
  },
  {
   "cell_type": "code",
   "execution_count": null,
   "id": "e1e393ce",
   "metadata": {},
   "outputs": [],
   "source": []
  }
 ],
 "metadata": {
  "kernelspec": {
   "display_name": "Python 3 (ipykernel)",
   "language": "python",
   "name": "python3"
  },
  "language_info": {
   "codemirror_mode": {
    "name": "ipython",
    "version": 3
   },
   "file_extension": ".py",
   "mimetype": "text/x-python",
   "name": "python",
   "nbconvert_exporter": "python",
   "pygments_lexer": "ipython3",
   "version": "3.9.7"
  }
 },
 "nbformat": 4,
 "nbformat_minor": 5
}
