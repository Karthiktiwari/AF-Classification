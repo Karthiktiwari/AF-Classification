{
 "cells": [
  {
   "cell_type": "code",
   "execution_count": 1,
   "id": "8e9e31f9",
   "metadata": {},
   "outputs": [],
   "source": [
    "import pandas as pd\n",
    "import numpy as np\n",
    "import matplotlib.pyplot as plt\n",
    "import os\n",
    "from tqdm import tqdm\n",
    "import torch\n",
    "from torch.utils.data import Dataset, DataLoader\n",
    "import torch.nn as nn\n",
    "from torch import optim\n",
    "from sklearn.model_selection import train_test_split\n"
   ]
  },
  {
   "cell_type": "code",
   "execution_count": 2,
   "id": "45045f71",
   "metadata": {},
   "outputs": [],
   "source": [
    "root = '../../../Data/dataset/'\n",
    "files = os.listdir(root)"
   ]
  },
  {
   "cell_type": "code",
   "execution_count": 3,
   "id": "a8eff2aa",
   "metadata": {},
   "outputs": [],
   "source": [
    "# signals = np.empty((1,200))\n",
    "# labels = np.empty(1)\n",
    "# for csvfile in tqdm(files):\n",
    "#     df = pd.read_csv(os.path.join(root, csvfile))\n",
    "# #     print(df.head())\n",
    "#     label = np.expand_dims(np.array(df['label']), axis = 1)\n",
    "#     sigs = np.array(df.drop(['label'], axis = 1))\n",
    "# #     print(label.shape, sigs.shape)\n",
    "#     signals = np.vstack((signals, sigs))\n",
    "#     labels = np.vstack((labels, label))\n",
    "# #     break\n"
   ]
  },
  {
   "cell_type": "code",
   "execution_count": 4,
   "id": "7877ac64",
   "metadata": {},
   "outputs": [
    {
     "name": "stdout",
     "output_type": "stream",
     "text": [
      "(1586000, 1) (1586000, 200)\n"
     ]
    }
   ],
   "source": [
    "# signals = np.array(signals)\n",
    "# labels = np.array(labels)\n",
    "signals = np.load(\"../../../Data/AFData/signals.npy\")\n",
    "labels = np.load(\"../../../Data/AFData/labels.npy\")\n",
    "print(labels.shape, signals.shape)\n"
   ]
  },
  {
   "cell_type": "code",
   "execution_count": 5,
   "id": "819dc78f",
   "metadata": {},
   "outputs": [],
   "source": [
    "X_train, X_test, y_train, y_test = train_test_split(signals[1:], labels[1:],\n",
    "                                                    test_size=0.2, stratify=labels[1:],\n",
    "                                                    random_state=101)\n"
   ]
  },
  {
   "cell_type": "code",
   "execution_count": 6,
   "id": "f479c421",
   "metadata": {},
   "outputs": [
    {
     "data": {
      "text/plain": [
       "(array([531936]), array([1054064]))"
      ]
     },
     "execution_count": 6,
     "metadata": {},
     "output_type": "execute_result"
    }
   ],
   "source": [
    "sum(labels==1), sum(labels==0)"
   ]
  },
  {
   "cell_type": "code",
   "execution_count": 7,
   "id": "3d193bcc",
   "metadata": {},
   "outputs": [],
   "source": [
    "del signals, labels\n"
   ]
  },
  {
   "cell_type": "code",
   "execution_count": 8,
   "id": "ab6280d5",
   "metadata": {},
   "outputs": [],
   "source": [
    "if not os.path.exists('../../../Data/AFData/signals.npy'):\n",
    "    np.save('/home/karthiktiwari/Data/AFData/signals.npy', signals)\n",
    "    np.save('/home/karthiktiwari/Data/AFData/labels.npy', labels)\n"
   ]
  },
  {
   "cell_type": "code",
   "execution_count": 9,
   "id": "69083e21",
   "metadata": {},
   "outputs": [],
   "source": [
    "class AFDataset(Dataset):\n",
    "    def __init__(self, signals, labels):\n",
    "        self.signals = signals\n",
    "        self.labels = labels\n",
    "\n",
    "    def __len__(self):\n",
    "        return len(self.labels)\n",
    "\n",
    "    def __getitem__(self, idx):\n",
    "        signal = torch.Tensor(\n",
    "            self.signals[idx]\n",
    "        )\n",
    "        label = self.labels[idx]\n",
    "        return {'signal': signal, 'label': label}\n"
   ]
  },
  {
   "cell_type": "code",
   "execution_count": 10,
   "id": "9f10fc66",
   "metadata": {},
   "outputs": [],
   "source": [
    "train_data = AFDataset(X_train, y_train)\n",
    "test_data = AFDataset(X_test, y_test)\n",
    "train_dataloader = DataLoader(\n",
    "    train_data, batch_size=128, shuffle=True, num_workers=2)\n",
    "test_dataloader = DataLoader(\n",
    "    test_data, batch_size=128, shuffle=False, num_workers=2)\n"
   ]
  },
  {
   "cell_type": "code",
   "execution_count": 11,
   "id": "3cecd5d4",
   "metadata": {},
   "outputs": [
    {
     "data": {
      "text/plain": [
       "[<matplotlib.lines.Line2D at 0x7fa89c6b3850>]"
      ]
     },
     "execution_count": 11,
     "metadata": {},
     "output_type": "execute_result"
    },
    {
     "data": {
      "image/png": "[encoded data removed]",
      "text/plain": [
       "<Figure size 432x288 with 1 Axes>"
      ]
     },
     "metadata": {
      "needs_background": "light"
     },
     "output_type": "display_data"
    }
   ],
   "source": [
    "plt.plot(train_data[1000]['signal'].numpy())\n"
   ]
  },
  {
   "cell_type": "code",
   "execution_count": 12,
   "id": "0120188c",
   "metadata": {},
   "outputs": [],
   "source": [
    "# plt.plot(data[0]['signal'].numpy())\n",
    "# print(labels[1])\n",
    "# print(np.unique(labels[1:]))\n"
   ]
  },
  {
   "cell_type": "code",
   "execution_count": 13,
   "id": "875c10ed",
   "metadata": {},
   "outputs": [],
   "source": [
    "class AFModel(nn.Module):\n",
    "    def __init__(self):\n",
    "        super(AFModel, self).__init__()\n",
    "        # self.attn = nn.MultiheadAttention(\n",
    "        #     embed_dim=128, num_heads=1, batch_first=True)\n",
    "        self.lstm1 = nn.LSTM(1, 32, batch_first=True, bidirectional=True)\n",
    "        self.lstm2 = nn.LSTM(64, 64, batch_first=True, bidirectional=True)\n",
    "        self.fc1 = nn.Linear(25600, 512)\n",
    "        self.relu = nn.ReLU()\n",
    "        self.drop = nn.Dropout(0.2)\n",
    "\n",
    "    def forward(self, x):\n",
    "        x = x.unsqueeze(dim=2)\n",
    "        x, _ = self.lstm1(x)\n",
    "        x, _ = self.lstm2(x)\n",
    "        # x, _ = self.attn(x, x, x)\n",
    "        x = self.drop(x)\n",
    "        b, _, _ = x.shape\n",
    "        x = x.reshape(b, -1)\n",
    "        x = self.fc1(x)\n",
    "        x = self.relu(x)\n",
    "        return x\n"
   ]
  },
  {
   "cell_type": "code",
   "execution_count": 14,
   "id": "be74b4af",
   "metadata": {},
   "outputs": [],
   "source": [
    "class AFConvNet(nn.Module):\n",
    "    def __init__(self):\n",
    "        super(AFConvNet, self).__init__()\n",
    "        # self.attn = nn.MultiheadAttention(\n",
    "        #     embed_dim=64, num_heads=1, batch_first=True)\n",
    "        self.conv1 = nn.Conv1d(1, 32, 16, padding=16, stride=2)\n",
    "        self.conv2 = nn.Conv1d(32, 64, 8, padding=16, stride=2)\n",
    "        self.fc1 = nn.Linear(4288, 512)\n",
    "        self.relu = nn.ReLU()\n",
    "        self.drop = nn.Dropout(0.2)\n",
    "\n",
    "    def forward(self, x):\n",
    "        x = x.unsqueeze(1)\n",
    "        x = self.conv1(x)\n",
    "        x = self.relu(x)\n",
    "        x = self.conv2(x)\n",
    "        x = self.relu(x)\n",
    "        # x = x.permute(0, 2, 1)\n",
    "        # x, _ = self.attn(x, x, x)\n",
    "        x = self.drop(x)\n",
    "        b, _, _ = x.shape\n",
    "        x = x.reshape(b, -1)\n",
    "        x = self.fc1(x)\n",
    "        x = self.relu(x)\n",
    "        return x\n"
   ]
  },
  {
   "cell_type": "code",
   "execution_count": 23,
   "id": "4444db71",
   "metadata": {},
   "outputs": [],
   "source": [
    "class AFConvLSTMNet(nn.Module):\n",
    "    def __init__(self):\n",
    "        super(AFConvLSTMNet, self).__init__()\n",
    "        self.convBlock = AFConvNet()\n",
    "        self.LSTMBlock = AFModel()\n",
    "        self.fc = nn.Linear(1024, 1)\n",
    "\n",
    "    def forward(self, x):\n",
    "        x_copy = x.clone()\n",
    "        x = self.convBlock(x)\n",
    "        x_copy = self.LSTMBlock(x_copy)\n",
    "        x = torch.hstack((x, x_copy))\n",
    "        x = self.fc(x)\n",
    "        return x\n"
   ]
  },
  {
   "cell_type": "code",
   "execution_count": 24,
   "id": "176da032",
   "metadata": {},
   "outputs": [],
   "source": [
    "def train_epoch(model, loader, opt, loss_fn, device, size, threshold=0.5):\n",
    "    total_loss = 0\n",
    "    count = 0\n",
    "    model.train()\n",
    "    for data in tqdm(loader):\n",
    "        X = data['signal'].float().to(device)\n",
    "        y = data['label'].float().to(device)\n",
    "\n",
    "        output = model(X)\n",
    "\n",
    "        loss = loss_fn(output, y)\n",
    "        total_loss += loss.item()\n",
    "\n",
    "        opt.zero_grad()\n",
    "        loss.backward()\n",
    "        opt.step()\n",
    "\n",
    "        preds = output.squeeze(dim=1)\n",
    "        preds = torch.sigmoid(preds)\n",
    "        preds = torch.tensor(\n",
    "            [1 if x > threshold else 0 for x in preds]).to(device)\n",
    "\n",
    "        gt = y.squeeze(dim=1)\n",
    "\n",
    "        count += (preds == gt).sum()\n",
    "\n",
    "    return total_loss, count / size, output\n",
    "\n",
    "\n",
    "def val_epoch(model, loader, loss_fn, device, size, threshold=0.5):\n",
    "    model.eval()\n",
    "    total_loss = 0\n",
    "    count = 0\n",
    "    with torch.no_grad():\n",
    "        for data in tqdm(loader):\n",
    "            X = data['signal'].float().to(device)\n",
    "            y = data['label'].float().to(device)\n",
    "\n",
    "            output = model(X)\n",
    "\n",
    "            loss = loss_fn(output, y)\n",
    "            total_loss += loss.item()\n",
    "\n",
    "            preds = output.squeeze(dim=1)\n",
    "            preds = torch.sigmoid(preds)\n",
    "            preds = torch.tensor(\n",
    "                [1 if x > threshold else 0 for x in preds]).to(device)\n",
    "\n",
    "            gt = y.squeeze(dim=1)\n",
    "\n",
    "            count += (preds == gt).sum()\n",
    "\n",
    "    return total_loss, count / size\n"
   ]
  },
  {
   "cell_type": "code",
   "execution_count": 25,
   "id": "be9698d0",
   "metadata": {},
   "outputs": [],
   "source": [
    "device = 'cuda'\n",
    "# model = AFModel().to(device)\n",
    "model = AFConvLSTMNet().to(device)\n",
    "optimiser = optim.Adam(model.parameters(), lr=1e-3)\n",
    "scheduler = optim.lr_scheduler.StepLR(optimiser, step_size=3, gamma=0.7)\n",
    "loss_fn = nn.BCEWithLogitsLoss().to(device)\n"
   ]
  },
  {
   "cell_type": "code",
   "execution_count": 29,
   "id": "9c0c9f31",
   "metadata": {
    "scrolled": false
   },
   "outputs": [
    {
     "name": "stderr",
     "output_type": "stream",
     "text": [
      "100%|██████████| 9913/9913 [10:38<00:00, 15.51it/s]\n",
      "100%|██████████| 2479/2479 [00:47<00:00, 51.87it/s]"
     ]
    },
    {
     "name": "stdout",
     "output_type": "stream",
     "text": [
      "Epoch: 1\n",
      "Train Accuaracy: 0.9745704531669617 Train Loss: 647.4333880324848\n",
      "Val Accuaracy: 0.9751355648040771 Val Loss: 156.35274312272668\n",
      "\n"
     ]
    },
    {
     "name": "stderr",
     "output_type": "stream",
     "text": [
      "\n"
     ]
    }
   ],
   "source": [
    "epochs = 1\n",
    "\n",
    "for epoch in range(epochs):\n",
    "\n",
    "    train_loss, train_acc, op = train_epoch(\n",
    "        model,\n",
    "        train_dataloader,\n",
    "        optimiser,\n",
    "        loss_fn,\n",
    "        device,\n",
    "        len(y_train),\n",
    "    )\n",
    "\n",
    "    val_loss, val_acc = val_epoch(\n",
    "        model,\n",
    "        test_dataloader,\n",
    "        loss_fn,\n",
    "        device,\n",
    "        len(y_test)\n",
    "    )\n",
    "\n",
    "    print(f'Epoch: {epoch + 1}')\n",
    "    print(f'Train Accuaracy: {train_acc} Train Loss: {train_loss}')\n",
    "    print(f'Val Accuaracy: {val_acc} Val Loss: {val_loss}')\n",
    "    print()\n"
   ]
  },
  {
   "cell_type": "code",
   "execution_count": 27,
   "id": "4dbf7b7d",
   "metadata": {},
   "outputs": [],
   "source": [
    "model_name = input()\n",
    "torch.save(model.state_dict(), '{}.pth'.format(model_name))\n"
   ]
  },
  {
   "cell_type": "code",
   "execution_count": 17,
   "id": "aadf85fd",
   "metadata": {},
   "outputs": [
    {
     "ename": "RuntimeError",
     "evalue": "Error(s) in loading state_dict for AFConvLSTMNet:\n\tMissing key(s) in state_dict: \"LSTMBlock.lstm1.weight_ih_l0_reverse\", \"LSTMBlock.lstm1.weight_hh_l0_reverse\", \"LSTMBlock.lstm1.bias_ih_l0_reverse\", \"LSTMBlock.lstm1.bias_hh_l0_reverse\", \"LSTMBlock.lstm2.weight_ih_l0_reverse\", \"LSTMBlock.lstm2.weight_hh_l0_reverse\", \"LSTMBlock.lstm2.bias_ih_l0_reverse\", \"LSTMBlock.lstm2.bias_hh_l0_reverse\". \n\tsize mismatch for LSTMBlock.attn.in_proj_weight: copying a param with shape torch.Size([192, 64]) from checkpoint, the shape in current model is torch.Size([384, 128]).\n\tsize mismatch for LSTMBlock.attn.in_proj_bias: copying a param with shape torch.Size([192]) from checkpoint, the shape in current model is torch.Size([384]).\n\tsize mismatch for LSTMBlock.attn.out_proj.weight: copying a param with shape torch.Size([64, 64]) from checkpoint, the shape in current model is torch.Size([128, 128]).\n\tsize mismatch for LSTMBlock.attn.out_proj.bias: copying a param with shape torch.Size([64]) from checkpoint, the shape in current model is torch.Size([128]).\n\tsize mismatch for LSTMBlock.lstm2.weight_ih_l0: copying a param with shape torch.Size([256, 32]) from checkpoint, the shape in current model is torch.Size([256, 64]).\n\tsize mismatch for LSTMBlock.fc1.weight: copying a param with shape torch.Size([512, 12800]) from checkpoint, the shape in current model is torch.Size([512, 25600]).",
     "output_type": "error",
     "traceback": [
      "\u001b[0;31m---------------------------------------------------------------------------\u001b[0m",
      "\u001b[0;31mRuntimeError\u001b[0m                              Traceback (most recent call last)",
      "\u001b[1;32m/home/karthiktiwari/Documents/Projects/AF Classification/Modelling.ipynb Cell 20'\u001b[0m in \u001b[0;36m<cell line: 1>\u001b[0;34m()\u001b[0m\n\u001b[0;32m----> <a href='vscode-notebook-cell:/home/karthiktiwari/Documents/Projects/AF%20Classification/Modelling.ipynb#ch0000019?line=0'>1</a>\u001b[0m model\u001b[39m.\u001b[39;49mload_state_dict(torch\u001b[39m.\u001b[39;49mload(\u001b[39m'\u001b[39;49m\u001b[39mAttnBasedLSTM.pth\u001b[39;49m\u001b[39m'\u001b[39;49m))\n",
      "File \u001b[0;32m~/.local/lib/python3.10/site-packages/torch/nn/modules/module.py:1497\u001b[0m, in \u001b[0;36mModule.load_state_dict\u001b[0;34m(self, state_dict, strict)\u001b[0m\n\u001b[1;32m   <a href='file:///home/karthiktiwari/.local/lib/python3.10/site-packages/torch/nn/modules/module.py?line=1491'>1492</a>\u001b[0m         error_msgs\u001b[39m.\u001b[39minsert(\n\u001b[1;32m   <a href='file:///home/karthiktiwari/.local/lib/python3.10/site-packages/torch/nn/modules/module.py?line=1492'>1493</a>\u001b[0m             \u001b[39m0\u001b[39m, \u001b[39m'\u001b[39m\u001b[39mMissing key(s) in state_dict: \u001b[39m\u001b[39m{}\u001b[39;00m\u001b[39m. \u001b[39m\u001b[39m'\u001b[39m\u001b[39m.\u001b[39mformat(\n\u001b[1;32m   <a href='file:///home/karthiktiwari/.local/lib/python3.10/site-packages/torch/nn/modules/module.py?line=1493'>1494</a>\u001b[0m                 \u001b[39m'\u001b[39m\u001b[39m, \u001b[39m\u001b[39m'\u001b[39m\u001b[39m.\u001b[39mjoin(\u001b[39m'\u001b[39m\u001b[39m\"\u001b[39m\u001b[39m{}\u001b[39;00m\u001b[39m\"\u001b[39m\u001b[39m'\u001b[39m\u001b[39m.\u001b[39mformat(k) \u001b[39mfor\u001b[39;00m k \u001b[39min\u001b[39;00m missing_keys)))\n\u001b[1;32m   <a href='file:///home/karthiktiwari/.local/lib/python3.10/site-packages/torch/nn/modules/module.py?line=1495'>1496</a>\u001b[0m \u001b[39mif\u001b[39;00m \u001b[39mlen\u001b[39m(error_msgs) \u001b[39m>\u001b[39m \u001b[39m0\u001b[39m:\n\u001b[0;32m-> <a href='file:///home/karthiktiwari/.local/lib/python3.10/site-packages/torch/nn/modules/module.py?line=1496'>1497</a>\u001b[0m     \u001b[39mraise\u001b[39;00m \u001b[39mRuntimeError\u001b[39;00m(\u001b[39m'\u001b[39m\u001b[39mError(s) in loading state_dict for \u001b[39m\u001b[39m{}\u001b[39;00m\u001b[39m:\u001b[39m\u001b[39m\\n\u001b[39;00m\u001b[39m\\t\u001b[39;00m\u001b[39m{}\u001b[39;00m\u001b[39m'\u001b[39m\u001b[39m.\u001b[39mformat(\n\u001b[1;32m   <a href='file:///home/karthiktiwari/.local/lib/python3.10/site-packages/torch/nn/modules/module.py?line=1497'>1498</a>\u001b[0m                        \u001b[39mself\u001b[39m\u001b[39m.\u001b[39m\u001b[39m__class__\u001b[39m\u001b[39m.\u001b[39m\u001b[39m__name__\u001b[39m, \u001b[39m\"\u001b[39m\u001b[39m\\n\u001b[39;00m\u001b[39m\\t\u001b[39;00m\u001b[39m\"\u001b[39m\u001b[39m.\u001b[39mjoin(error_msgs)))\n\u001b[1;32m   <a href='file:///home/karthiktiwari/.local/lib/python3.10/site-packages/torch/nn/modules/module.py?line=1498'>1499</a>\u001b[0m \u001b[39mreturn\u001b[39;00m _IncompatibleKeys(missing_keys, unexpected_keys)\n",
      "\u001b[0;31mRuntimeError\u001b[0m: Error(s) in loading state_dict for AFConvLSTMNet:\n\tMissing key(s) in state_dict: \"LSTMBlock.lstm1.weight_ih_l0_reverse\", \"LSTMBlock.lstm1.weight_hh_l0_reverse\", \"LSTMBlock.lstm1.bias_ih_l0_reverse\", \"LSTMBlock.lstm1.bias_hh_l0_reverse\", \"LSTMBlock.lstm2.weight_ih_l0_reverse\", \"LSTMBlock.lstm2.weight_hh_l0_reverse\", \"LSTMBlock.lstm2.bias_ih_l0_reverse\", \"LSTMBlock.lstm2.bias_hh_l0_reverse\". \n\tsize mismatch for LSTMBlock.attn.in_proj_weight: copying a param with shape torch.Size([192, 64]) from checkpoint, the shape in current model is torch.Size([384, 128]).\n\tsize mismatch for LSTMBlock.attn.in_proj_bias: copying a param with shape torch.Size([192]) from checkpoint, the shape in current model is torch.Size([384]).\n\tsize mismatch for LSTMBlock.attn.out_proj.weight: copying a param with shape torch.Size([64, 64]) from checkpoint, the shape in current model is torch.Size([128, 128]).\n\tsize mismatch for LSTMBlock.attn.out_proj.bias: copying a param with shape torch.Size([64]) from checkpoint, the shape in current model is torch.Size([128]).\n\tsize mismatch for LSTMBlock.lstm2.weight_ih_l0: copying a param with shape torch.Size([256, 32]) from checkpoint, the shape in current model is torch.Size([256, 64]).\n\tsize mismatch for LSTMBlock.fc1.weight: copying a param with shape torch.Size([512, 12800]) from checkpoint, the shape in current model is torch.Size([512, 25600])."
     ]
    }
   ],
   "source": [
    "model.load_state_dict(torch.load('AttnBasedLSTM.pth'))\n"
   ]
  },
  {
   "cell_type": "code",
   "execution_count": 30,
   "id": "d47da23f",
   "metadata": {},
   "outputs": [
    {
     "name": "stderr",
     "output_type": "stream",
     "text": [
      "100%|██████████| 2479/2479 [00:46<00:00, 53.38it/s]"
     ]
    },
    {
     "name": "stdout",
     "output_type": "stream",
     "text": [
      "Accuracy on Test Data is 97.51%\n"
     ]
    },
    {
     "name": "stderr",
     "output_type": "stream",
     "text": [
      "\n"
     ]
    }
   ],
   "source": [
    "model.eval()\n",
    "threshold = 0.5\n",
    "count = 0\n",
    "gts = []\n",
    "model_preds = []\n",
    "with torch.no_grad():\n",
    "    for data in tqdm(test_dataloader):\n",
    "        X = data['signal'].float().to(device)\n",
    "        y = data['label'].float().to(device)\n",
    "\n",
    "        output = model(X)\n",
    "        preds = output.squeeze(dim=1)\n",
    "        preds = torch.sigmoid(preds)\n",
    "        preds = torch.tensor(\n",
    "            [1 if x > threshold else 0 for x in preds]).to(device)\n",
    "        model_preds.extend(preds.detach().cpu().numpy())\n",
    "        gts.extend(y.detach().cpu().numpy())\n",
    "        gt = y.squeeze(dim=1)\n",
    "\n",
    "        count += (preds == gt).sum()\n",
    "\n",
    "print(\"Accuracy on Test Data is {0:.4g}%\".format(\n",
    "    (count.item()*100)/len(y_test)))\n"
   ]
  },
  {
   "cell_type": "code",
   "execution_count": 27,
   "id": "931020f4",
   "metadata": {},
   "outputs": [
    {
     "name": "stdout",
     "output_type": "stream",
     "text": [
      "              precision    recall  f1-score   support\n",
      "\n",
      "         0.0       0.99      0.99      0.99    210813\n",
      "         1.0       0.98      0.97      0.98    106387\n",
      "\n",
      "    accuracy                           0.98    317200\n",
      "   macro avg       0.98      0.98      0.98    317200\n",
      "weighted avg       0.98      0.98      0.98    317200\n",
      "\n"
     ]
    }
   ],
   "source": [
    "from sklearn.metrics import classification_report\n",
    "print(classification_report(gts, model_preds))"
   ]
  },
  {
   "cell_type": "code",
   "execution_count": null,
   "id": "c1100247",
   "metadata": {},
   "outputs": [],
   "source": [
    "# cm = confusion_matrix(np.array(model_preds), np.array(gts))\n",
    "# precision_score = precision_score(np.array(model_preds), np.array(gts))\n",
    "# print('precision_score :\\n',precision_score)\n",
    "# recall_score = recall_score(np.array(model_preds), np.array(gts))\n",
    "# print('recall_score :\\n',recall_score)\n",
    "# f1_score = f1_score(np.array(model_preds), np.array(gts))\n",
    "# print('f1_score :\\n',f1_score)\n",
    "# tp, fp, tn, fn = cm[0][0], cm[0][1], cm[1][0], cm[1][1]\n",
    "# print(\"Confusion Matrix: TP {}, FP {}, TN {}, FN {}\".format(tp,fp,tn,fn))\n",
    "\n",
    "# total = sum(sum(cm))\n",
    "# # from confusion matrix calculate accuracy\n",
    "# accuracy = (cm[0, 0]+cm[1, 1])/total\n",
    "# print('Accuracy : ', accuracy)\n",
    "\n",
    "# sensitivity = cm[0, 0]/(cm[0, 0]+cm[0, 1])\n",
    "# print('Sensitivity : ', sensitivity)\n",
    "\n",
    "# specificity = cm[1, 1]/(cm[1, 0]+cm[1, 1])\n",
    "# print('Specificity : ', specificity)"
   ]
  },
  {
   "cell_type": "code",
   "execution_count": null,
   "id": "bdd4ac87",
   "metadata": {},
   "outputs": [],
   "source": []
  }
 ],
 "metadata": {
  "interpreter": {
   "hash": "916dbcbb3f70747c44a77c7bcd40155683ae19c65e1c03b4aa3499c5328201f1"
  },
  "kernelspec": {
   "display_name": "Python 3 (ipykernel)",
   "language": "python",
   "name": "python3"
  },
  "language_info": {
   "codemirror_mode": {
    "name": "ipython",
    "version": 3
   },
   "file_extension": ".py",
   "mimetype": "text/x-python",
   "name": "python",
   "nbconvert_exporter": "python",
   "pygments_lexer": "ipython3",
   "version": "3.10.4"
  }
 },
 "nbformat": 4,
 "nbformat_minor": 5
}
